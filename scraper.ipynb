{
 "cells": [
  {
   "cell_type": "markdown",
   "metadata": {},
   "source": [
    "This scrapper is used to establish a .json file with the information of interest among the energy consuption invoices<br>\n",
    "<a href='https://github.com/jcushman/pdfquery'>PDFquery</a><br>\n",
    "<a href='http://okfnlabs.org/blog/2016/04/19/pdf-tools-extract-text-and-data-from-pdfs.html'>List of pdf scrappers</a>"
   ]
  },
  {
   "cell_type": "code",
   "execution_count": 3,
   "metadata": {
    "collapsed": true
   },
   "outputs": [],
   "source": [
    "import pdfquery\n",
    "import re\n",
    "import os\n",
    "import json\n",
    "import time\n",
    "from datetime import datetime"
   ]
  },
  {
   "cell_type": "code",
   "execution_count": 62,
   "metadata": {
    "collapsed": false
   },
   "outputs": [],
   "source": [
    "log = list() #list of scrapped data\n",
    "for filename in os.listdir(os.getcwd()+'\\\\faturas'):\n",
    "    if filename.endswith(\".pdf\"): \n",
    "        pdf = pdfquery.PDFQuery('./faturas/'+filename)\n",
    "        pdf.load()\n",
    "        #pdf.tree.write(\"test.xml\", pretty_print=True, encoding=\"utf-8\") #for debbuging purposes\n",
    "        \n",
    "        #define a threshold between consumption and additional charge fields\n",
    "        th_add = pdf.pq(':contains(\"Lançamentos e Serviços\")')[2].layout.bbox[-1]\n",
    "        \n",
    "        #get sentences based on position in .pdf's\n",
    "        data = pdf.extract([\n",
    "                ('with_formatter', 'text'),\n",
    "                ('nome', 'LTTextLineHorizontal:in_bbox(\"28.35, 756.943, 124.292, 770.033\")'),\n",
    "                ('conta','LTTextLineHorizontal:in_bbox(\"422.21, 653.888, 484.72, 677.328\")'),\n",
    "                ('valor','LTTextLineHorizontal:in_bbox(\"513.08,'+str(th_add)+', 541.422, 677.328\")'),\n",
    "                ('tarifa_add','LTTextLineHorizontal:overlaps_bbox(\"529.74, 611.368, 541.416, '+str(th_add)+'\")'),\n",
    "                ('distribuicao','LTTextLineHorizontal:in_bbox(\"296.37, 347.888, 311.382, 354.824\")'),\n",
    "                ('enc.setoriais','LTTextLineHorizontal:overlaps_bbox(\"343.14, 347.888, 358.152, 354.824\")'),\n",
    "                ('energia','LTTextLineHorizontal:overlaps_bbox(\"385.41, 347.888, 403.758, 354.824\")'),\n",
    "                ('trasmissao','LTTextLineHorizontal:overlaps_bbox(\"429.6, 347.888, 444.612, 354.824\")'),\n",
    "                ('tributos','LTTextLineHorizontal:in_bbox(\"472.12, 347.888, 487.132, 354.824\")'),\n",
    "                ('total','LTTextLineHorizontal:overlaps_bbox(\"449.53, 696.003, 500.184, 709.093\")'),\n",
    "                ('un_consumidora', 'LTTextLineHorizontal:in_bbox(\"299.06, 80.781, 326.304, 88.873\")'),\n",
    "                ('data', 'LTTextLineHorizontal:in_bbox(\"386.93, 80.781, 412.228, 88.873\")')\n",
    "            ])\n",
    "        \n",
    "        #use regex to extract data\n",
    "        schema = {\n",
    "            'nome': data['nome'],\n",
    "            'unidade': int(data['un_consumidora']),\n",
    "            'data':  time.mktime(datetime.strptime(data['data'],'%m/%Y').timetuple()),\n",
    "            'total': float(re.findall(r'-?[0-9]+\\.[0-9]*', data['total'].replace(',','.'))[0]),\n",
    "            'tarifa': list(map(lambda x: float(x), re.findall(r'[0-9]+(\\.[0-9]*)', data['conta'].replace(',','.')))),\n",
    "            'consumo': list(map(lambda x: int(x), re.findall(r'(?:^|(?<=\\s))[0-9]+(?=$|\\s)', data['conta']))),\n",
    "            'valor': list(map(lambda x: float(x), re.findall(r'-?[0-9]+\\.[0-9]*', data['valor'].replace(',','.'))))[:-1],\n",
    "            'adicional': list(map(lambda x: float(x), re.findall(r'-?[0-9]+\\.[0-9]*', data['tarifa_add'].replace(',','.'))))[:-1],\n",
    "            'comp_distribuicao': float(data['distribuicao'].replace(',','.')),\n",
    "            'comp_enc.setoriais': float(data['enc.setoriais'].replace(',','.')),\n",
    "            'comp_energia': float(data['energia'].replace(',','.')),\n",
    "            'comp_transmissao': float(data['trasmissao'].replace(',','.')),\n",
    "            'comp_tributos': float(data['tributos'].replace(',','.'))\n",
    "        }\n",
    "       \n",
    "        log.append(schema)\n",
    "    else:\n",
    "        continue\n",
    "\n",
    "#dump log as a .json file\n",
    "with open('database.json', 'w') as file:\n",
    "    json.dump({'logs': log}, file)"
   ]
  }
 ],
 "metadata": {
  "kernelspec": {
   "display_name": "Python 3",
   "language": "python",
   "name": "python3"
  },
  "language_info": {
   "codemirror_mode": {
    "name": "ipython",
    "version": 3
   },
   "file_extension": ".py",
   "mimetype": "text/x-python",
   "name": "python",
   "nbconvert_exporter": "python",
   "pygments_lexer": "ipython3",
   "version": "3.6.0"
  }
 },
 "nbformat": 4,
 "nbformat_minor": 2
}
