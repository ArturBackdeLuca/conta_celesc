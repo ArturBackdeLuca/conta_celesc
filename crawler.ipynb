{
 "cells": [
  {
   "cell_type": "markdown",
   "metadata": {},
   "source": [
    "This crawler was developed to retrieve residential energy consumption invoices from Centrais Elétricas de Santa Catarina (CELESC) in .pdfs using the selenium-requests library"
   ]
  },
  {
   "cell_type": "code",
   "execution_count": 12,
   "metadata": {
    "collapsed": true
   },
   "outputs": [],
   "source": [
    "import os\n",
    "import re\n",
    "import time\n",
    "import requests\n",
    "from bs4 import BeautifulSoup\n",
    "from seleniumrequests import Chrome \n",
    "from selenium.webdriver import ChromeOptions"
   ]
  },
  {
   "cell_type": "code",
   "execution_count": 13,
   "metadata": {
    "collapsed": false
   },
   "outputs": [],
   "source": [
    "options = ChromeOptions()\n",
    "filename = os.path.join(os.getcwd(), 'faturas')\n",
    "os.makedirs(filename, exist_ok=True)\n",
    "profile = {\"plugins.plugins_list\": [{\"enabled\": False, \"name\": \"Chrome PDF Viewer\"}], # Disable Chrome's PDF Viewer\n",
    "           \"download.default_directory\": filename,\n",
    "           \"download.extensions_to_open\": \"\",\n",
    "           \"browser.helperApps.neverAsk.saveToDisk\": \"\",\n",
    "}\n",
    "\n",
    "options.add_experimental_option(\"prefs\", profile) #add preferences to option variable\n",
    "#options.add_argument(\"--headless\") #Headless sets crawler in hidden mode, however it won't allow to perform the downloads\n",
    "driver = Chrome(options=options)\n",
    "\n",
    "#crawler must enter the directory before making a post requests\n",
    "driver.get('https://agenciaweb.celesc.com.br/AgenciaWeb/consultarHistoricoPagto/listaHistoricoFaturas.jsp?d-1335161-p=1');"
   ]
  },
  {
   "cell_type": "code",
   "execution_count": 14,
   "metadata": {
    "collapsed": false
   },
   "outputs": [],
   "source": [
    "payload = {\n",
    "    'param_url': '/agencia/',\n",
    "    'sqUnidadeConsumidora': , #add the consumer unit\n",
    "    'numeroMedidor': 'false',\n",
    "    'tpDocumento': 'CPF',\n",
    "    'numeroDocumentoCPF': , #add the CPF\n",
    "    'autenticarSemDocumento': 'false',\n",
    "    'tipoUsuario': 'clienteUnCons'\n",
    "}\n",
    "driver.request('POST','https://agenciaweb.celesc.com.br/AgenciaWeb/autenticar/autenticar.do', data=payload)\n",
    "\n",
    "#two step login\n",
    "payload = {'senha': ''} #add the password\n",
    "driver.request('POST','https://agenciaweb.celesc.com.br/AgenciaWeb/autenticar/validarSenha.do', data=payload);"
   ]
  },
  {
   "cell_type": "code",
   "execution_count": 15,
   "metadata": {
    "collapsed": false
   },
   "outputs": [],
   "source": [
    "#consult the invoices' history\n",
    "driver.get('https://agenciaweb.celesc.com.br/AgenciaWeb/consultarHistoricoPagto/consultarHistoricoPagto.do')\n",
    "\n",
    "#url address ends with 'p=1'\n",
    "req = driver.request('GET','https://agenciaweb.celesc.com.br/AgenciaWeb/consultarHistoricoPagto/listaHistoricoFaturas.jsp?d-1335161-p=1')\n",
    "\n",
    "#request finds the last index for 'p'\n",
    "req = BeautifulSoup(req.content, 'lxml')\n",
    "last = int(re.findall(r'\\d+', req.find('a',text='Última')['href'][-3:])[0])\n",
    "\n",
    "#get the documents' addresses\n",
    "urls = list()\n",
    "for i in range(1, last+1):\n",
    "    url = 'https://agenciaweb.celesc.com.br/AgenciaWeb/consultarHistoricoPagto/listaHistoricoFaturas.jsp?d-1335161-p='+str(i)\n",
    "    req = driver.request('GET', url)\n",
    "    req = BeautifulSoup(req.content, 'lxml')\n",
    "    urls+=list(map(lambda x: 'https://agenciaweb.celesc.com.br' + x['href'], req.find_all('a', {\"name\": \"teste\"})))"
   ]
  },
  {
   "cell_type": "code",
   "execution_count": 16,
   "metadata": {
    "collapsed": false
   },
   "outputs": [],
   "source": [
    "#download files\n",
    "for url in urls:\n",
    "    driver.get(url)\n",
    "    time.sleep(1) #wait to finish the download\n",
    "    #rename file by its url\n",
    "    os.rename(os.path.join(filename,'SegundaViaFatura.pdf'), os.path.join(filename, url[-7:].replace('/','_')+'.pdf'))\n",
    "driver.close()"
   ]
  }
 ],
 "metadata": {
  "kernelspec": {
   "display_name": "Python 3",
   "language": "python",
   "name": "python3"
  },
  "language_info": {
   "codemirror_mode": {
    "name": "ipython",
    "version": 3
   },
   "file_extension": ".py",
   "mimetype": "text/x-python",
   "name": "python",
   "nbconvert_exporter": "python",
   "pygments_lexer": "ipython3",
   "version": "3.6.0"
  }
 },
 "nbformat": 4,
 "nbformat_minor": 2
}
